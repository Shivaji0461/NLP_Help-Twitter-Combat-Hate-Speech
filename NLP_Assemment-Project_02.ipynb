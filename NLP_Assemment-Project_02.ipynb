{
 "cells": [
  {
   "cell_type": "markdown",
   "id": "f4b15782",
   "metadata": {},
   "source": [
    "# Project Name:- Help Twitter Combat Hate Speech Using NLP and Machine Learning"
   ]
  },
  {
   "cell_type": "code",
   "execution_count": 1,
   "id": "d2842804",
   "metadata": {},
   "outputs": [],
   "source": [
    "import warnings\n",
    "warnings.filterwarnings('ignore')"
   ]
  },
  {
   "cell_type": "code",
   "execution_count": 2,
   "id": "3f1594c4",
   "metadata": {},
   "outputs": [],
   "source": [
    "# Import Require library\n",
    "\n",
    "import pandas as pd\n",
    "import re\n",
    "from nltk.tokenize import TweetTokenizer\n",
    "from nltk.corpus import stopwords\n",
    "from string import punctuation\n",
    "from collections import Counter\n",
    "from sklearn.model_selection import train_test_split\n",
    "from sklearn.linear_model import LogisticRegression\n",
    "from sklearn.metrics import accuracy_score,classification_report,recall_score,f1_score"
   ]
  },
  {
   "cell_type": "code",
   "execution_count": 3,
   "id": "d8912a10",
   "metadata": {},
   "outputs": [],
   "source": [
    "# Set column width 150 for showing most data\n",
    "pd.set_option('display.max_colwidth',150)"
   ]
  },
  {
   "cell_type": "markdown",
   "id": "5583ecb2",
   "metadata": {},
   "source": [
    "# 1. Load the tweets file using read_csv function from Pandas package. "
   ]
  },
  {
   "cell_type": "code",
   "execution_count": 4,
   "id": "0370ddf5",
   "metadata": {},
   "outputs": [
    {
     "data": {
      "text/html": [
       "<div>\n",
       "<style scoped>\n",
       "    .dataframe tbody tr th:only-of-type {\n",
       "        vertical-align: middle;\n",
       "    }\n",
       "\n",
       "    .dataframe tbody tr th {\n",
       "        vertical-align: top;\n",
       "    }\n",
       "\n",
       "    .dataframe thead th {\n",
       "        text-align: right;\n",
       "    }\n",
       "</style>\n",
       "<table border=\"1\" class=\"dataframe\">\n",
       "  <thead>\n",
       "    <tr style=\"text-align: right;\">\n",
       "      <th></th>\n",
       "      <th>label</th>\n",
       "      <th>tweet</th>\n",
       "    </tr>\n",
       "  </thead>\n",
       "  <tbody>\n",
       "    <tr>\n",
       "      <th>0</th>\n",
       "      <td>0</td>\n",
       "      <td>@user when a father is dysfunctional and is so selfish he drags his kids into his dysfunction.   #run</td>\n",
       "    </tr>\n",
       "    <tr>\n",
       "      <th>1</th>\n",
       "      <td>0</td>\n",
       "      <td>@user @user thanks for #lyft credit i can't use cause they don't offer wheelchair vans in pdx.    #disapointed #getthanked</td>\n",
       "    </tr>\n",
       "    <tr>\n",
       "      <th>2</th>\n",
       "      <td>0</td>\n",
       "      <td>bihday your majesty</td>\n",
       "    </tr>\n",
       "    <tr>\n",
       "      <th>3</th>\n",
       "      <td>0</td>\n",
       "      <td>#model   i love u take with u all the time in urð±!!! ðððð",
       "ð¦ð¦ð¦</td>\n",
       "    </tr>\n",
       "    <tr>\n",
       "      <th>4</th>\n",
       "      <td>0</td>\n",
       "      <td>factsguide: society now    #motivation</td>\n",
       "    </tr>\n",
       "    <tr>\n",
       "      <th>5</th>\n",
       "      <td>0</td>\n",
       "      <td>[2/2] huge fan fare and big talking before they leave. chaos and pay disputes when they get there. #allshowandnogo</td>\n",
       "    </tr>\n",
       "    <tr>\n",
       "      <th>6</th>\n",
       "      <td>0</td>\n",
       "      <td>@user camping tomorrow @user @user @user @user @user @user @user dannyâ¦</td>\n",
       "    </tr>\n",
       "    <tr>\n",
       "      <th>7</th>\n",
       "      <td>0</td>\n",
       "      <td>the next school year is the year for exams.ð¯ can't think about that ð­ #school #exams   #hate #imagine #actorslife #revolutionschool #girl</td>\n",
       "    </tr>\n",
       "    <tr>\n",
       "      <th>8</th>\n",
       "      <td>0</td>\n",
       "      <td>we won!!! love the land!!! #allin #cavs #champions #cleveland #clevelandcavaliers  â¦</td>\n",
       "    </tr>\n",
       "    <tr>\n",
       "      <th>9</th>\n",
       "      <td>0</td>\n",
       "      <td>@user @user welcome here !  i'm   it's so #gr8 !</td>\n",
       "    </tr>\n",
       "  </tbody>\n",
       "</table>\n",
       "</div>"
      ],
      "text/plain": [
       "   label  \\\n",
       "0      0   \n",
       "1      0   \n",
       "2      0   \n",
       "3      0   \n",
       "4      0   \n",
       "5      0   \n",
       "6      0   \n",
       "7      0   \n",
       "8      0   \n",
       "9      0   \n",
       "\n",
       "                                                                                                                                             tweet  \n",
       "0                                            @user when a father is dysfunctional and is so selfish he drags his kids into his dysfunction.   #run  \n",
       "1                       @user @user thanks for #lyft credit i can't use cause they don't offer wheelchair vans in pdx.    #disapointed #getthanked  \n",
       "2                                                                                                                              bihday your majesty  \n",
       "3                                                           #model   i love u take with u all the time in urð±!!! ðððð\n",
       "ð¦ð¦ð¦    \n",
       "4                                                                                                           factsguide: society now    #motivation  \n",
       "5                             [2/2] huge fan fare and big talking before they leave. chaos and pay disputes when they get there. #allshowandnogo    \n",
       "6                                                                        @user camping tomorrow @user @user @user @user @user @user @user dannyâ¦  \n",
       "7  the next school year is the year for exams.ð¯ can't think about that ð­ #school #exams   #hate #imagine #actorslife #revolutionschool #girl  \n",
       "8                                                          we won!!! love the land!!! #allin #cavs #champions #cleveland #clevelandcavaliers  â¦   \n",
       "9                                                                                                @user @user welcome here !  i'm   it's so #gr8 !   "
      ]
     },
     "execution_count": 4,
     "metadata": {},
     "output_type": "execute_result"
    }
   ],
   "source": [
    "data = pd.read_csv('TwitterHate.csv',usecols=['label','tweet'])\n",
    "data.head(10)"
   ]
  },
  {
   "cell_type": "code",
   "execution_count": 5,
   "id": "af01e547",
   "metadata": {},
   "outputs": [
    {
     "data": {
      "text/plain": [
       "(31962, 2)"
      ]
     },
     "execution_count": 5,
     "metadata": {},
     "output_type": "execute_result"
    }
   ],
   "source": [
    "# Check the shape of tha dataset\n",
    "data.shape"
   ]
  },
  {
   "cell_type": "code",
   "execution_count": 6,
   "id": "a95c059e",
   "metadata": {},
   "outputs": [
    {
     "name": "stdout",
     "output_type": "stream",
     "text": [
      "<class 'pandas.core.frame.DataFrame'>\n",
      "RangeIndex: 31962 entries, 0 to 31961\n",
      "Data columns (total 2 columns):\n",
      " #   Column  Non-Null Count  Dtype \n",
      "---  ------  --------------  ----- \n",
      " 0   label   31962 non-null  int64 \n",
      " 1   tweet   31962 non-null  object\n",
      "dtypes: int64(1), object(1)\n",
      "memory usage: 499.5+ KB\n"
     ]
    }
   ],
   "source": [
    "# Check the information of dataset\n",
    "data.info()"
   ]
  },
  {
   "cell_type": "code",
   "execution_count": 7,
   "id": "6c254a8a",
   "metadata": {},
   "outputs": [
    {
     "data": {
      "text/plain": [
       "False"
      ]
     },
     "execution_count": 7,
     "metadata": {},
     "output_type": "execute_result"
    }
   ],
   "source": [
    "# Check the missing value in dataset\n",
    "data.isna().sum().any()"
   ]
  },
  {
   "cell_type": "code",
   "execution_count": 8,
   "id": "65b48149",
   "metadata": {},
   "outputs": [
    {
     "data": {
      "text/plain": [
       "0    29720\n",
       "1     2242\n",
       "Name: label, dtype: int64"
      ]
     },
     "execution_count": 8,
     "metadata": {},
     "output_type": "execute_result"
    }
   ],
   "source": [
    "data['label'].value_counts()"
   ]
  },
  {
   "cell_type": "markdown",
   "id": "dc07b31b",
   "metadata": {},
   "source": [
    "# 2. Get the tweets into a list for easy text cleanup and manipulation."
   ]
  },
  {
   "cell_type": "code",
   "execution_count": 9,
   "id": "24935552",
   "metadata": {},
   "outputs": [],
   "source": [
    "tweet = data['tweet'].values"
   ]
  },
  {
   "cell_type": "code",
   "execution_count": 10,
   "id": "3550a8bc",
   "metadata": {},
   "outputs": [
    {
     "data": {
      "text/plain": [
       "array([' @user when a father is dysfunctional and is so selfish he drags his kids into his dysfunction.   #run',\n",
       "       \"@user @user thanks for #lyft credit i can't use cause they don't offer wheelchair vans in pdx.    #disapointed #getthanked\",\n",
       "       '  bihday your majesty',\n",
       "       '#model   i love u take with u all the time in urð\\x9f\\x93±!!! ð\\x9f\\x98\\x99ð\\x9f\\x98\\x8eð\\x9f\\x91\\x84ð\\x9f\\x91\\x85ð\\x9f\\x92¦ð\\x9f\\x92¦ð\\x9f\\x92¦  ',\n",
       "       ' factsguide: society now    #motivation'], dtype=object)"
      ]
     },
     "execution_count": 10,
     "metadata": {},
     "output_type": "execute_result"
    }
   ],
   "source": [
    "tweet[:5]"
   ]
  },
  {
   "cell_type": "markdown",
   "id": "ff3c43da",
   "metadata": {},
   "source": [
    "# 3. To cleanup: "
   ]
  },
  {
   "cell_type": "markdown",
   "id": "3eb2803b",
   "metadata": {},
   "source": [
    "## i. Normalize the casing."
   ]
  },
  {
   "cell_type": "code",
   "execution_count": 11,
   "id": "723edadb",
   "metadata": {},
   "outputs": [],
   "source": [
    "tweet_lower = [term.lower() for term in tweet]"
   ]
  },
  {
   "cell_type": "code",
   "execution_count": 12,
   "id": "92779996",
   "metadata": {},
   "outputs": [
    {
     "data": {
      "text/plain": [
       "[' @user when a father is dysfunctional and is so selfish he drags his kids into his dysfunction.   #run',\n",
       " \"@user @user thanks for #lyft credit i can't use cause they don't offer wheelchair vans in pdx.    #disapointed #getthanked\",\n",
       " '  bihday your majesty',\n",
       " '#model   i love u take with u all the time in urð\\x9f\\x93±!!! ð\\x9f\\x98\\x99ð\\x9f\\x98\\x8eð\\x9f\\x91\\x84ð\\x9f\\x91\\x85ð\\x9f\\x92¦ð\\x9f\\x92¦ð\\x9f\\x92¦  ',\n",
       " ' factsguide: society now    #motivation']"
      ]
     },
     "execution_count": 12,
     "metadata": {},
     "output_type": "execute_result"
    }
   ],
   "source": [
    "tweet_lower[:5]"
   ]
  },
  {
   "cell_type": "markdown",
   "id": "4a7c1e4d",
   "metadata": {},
   "source": [
    "## ii. Using regular expressions, remove user handles. These begin with '@’."
   ]
  },
  {
   "cell_type": "code",
   "execution_count": 13,
   "id": "42d6d4df",
   "metadata": {},
   "outputs": [],
   "source": [
    "tweet_nonuser = [re.sub('@\\w+','',term) for term in tweet_lower]"
   ]
  },
  {
   "cell_type": "code",
   "execution_count": 14,
   "id": "37b26dc5",
   "metadata": {},
   "outputs": [
    {
     "data": {
      "text/plain": [
       "['  when a father is dysfunctional and is so selfish he drags his kids into his dysfunction.   #run',\n",
       " \"  thanks for #lyft credit i can't use cause they don't offer wheelchair vans in pdx.    #disapointed #getthanked\",\n",
       " '  bihday your majesty',\n",
       " '#model   i love u take with u all the time in urð\\x9f\\x93±!!! ð\\x9f\\x98\\x99ð\\x9f\\x98\\x8eð\\x9f\\x91\\x84ð\\x9f\\x91\\x85ð\\x9f\\x92¦ð\\x9f\\x92¦ð\\x9f\\x92¦  ',\n",
       " ' factsguide: society now    #motivation']"
      ]
     },
     "execution_count": 14,
     "metadata": {},
     "output_type": "execute_result"
    }
   ],
   "source": [
    "tweet_nonuser[:5]"
   ]
  },
  {
   "cell_type": "markdown",
   "id": "a71da2e0",
   "metadata": {},
   "source": [
    "## iii. Using regular expressions, remove URLs."
   ]
  },
  {
   "cell_type": "code",
   "execution_count": 15,
   "id": "4f79e3f2",
   "metadata": {},
   "outputs": [],
   "source": [
    "tweet_nonurl = [re.sub('\\w+://\\S+','',term) for term in tweet_nonuser]"
   ]
  },
  {
   "cell_type": "code",
   "execution_count": 16,
   "id": "0e639830",
   "metadata": {},
   "outputs": [
    {
     "data": {
      "text/plain": [
       "['  when a father is dysfunctional and is so selfish he drags his kids into his dysfunction.   #run',\n",
       " \"  thanks for #lyft credit i can't use cause they don't offer wheelchair vans in pdx.    #disapointed #getthanked\",\n",
       " '  bihday your majesty',\n",
       " '#model   i love u take with u all the time in urð\\x9f\\x93±!!! ð\\x9f\\x98\\x99ð\\x9f\\x98\\x8eð\\x9f\\x91\\x84ð\\x9f\\x91\\x85ð\\x9f\\x92¦ð\\x9f\\x92¦ð\\x9f\\x92¦  ',\n",
       " ' factsguide: society now    #motivation']"
      ]
     },
     "execution_count": 16,
     "metadata": {},
     "output_type": "execute_result"
    }
   ],
   "source": [
    "tweet_nonurl[:5]"
   ]
  },
  {
   "cell_type": "markdown",
   "id": "ce2858ed",
   "metadata": {},
   "source": [
    "## iv. Using TweetTokenizer from NLTK, tokenize the tweets into individual terms."
   ]
  },
  {
   "cell_type": "code",
   "execution_count": 17,
   "id": "54a20667",
   "metadata": {},
   "outputs": [],
   "source": [
    "tweet_token = [TweetTokenizer().tokenize(sent) for sent in tweet_nonurl]"
   ]
  },
  {
   "cell_type": "code",
   "execution_count": 18,
   "id": "68a625aa",
   "metadata": {},
   "outputs": [
    {
     "name": "stdout",
     "output_type": "stream",
     "text": [
      "[['when', 'a', 'father', 'is', 'dysfunctional', 'and', 'is', 'so', 'selfish', 'he', 'drags', 'his', 'kids', 'into', 'his', 'dysfunction', '.', '#run'], ['thanks', 'for', '#lyft', 'credit', 'i', \"can't\", 'use', 'cause', 'they', \"don't\", 'offer', 'wheelchair', 'vans', 'in', 'pdx', '.', '#disapointed', '#getthanked'], ['bihday', 'your', 'majesty'], ['#model', 'i', 'love', 'u', 'take', 'with', 'u', 'all', 'the', 'time', 'in', 'urð', '\\x9f', '\\x93', '±', '!', '!', '!', 'ð', '\\x9f', '\\x98', '\\x99', 'ð', '\\x9f', '\\x98', '\\x8e', 'ð', '\\x9f', '\\x91', '\\x84', 'ð', '\\x9f', '\\x91', 'ð', '\\x9f', '\\x92', '¦', 'ð', '\\x9f', '\\x92', '¦', 'ð', '\\x9f', '\\x92', '¦'], ['factsguide', ':', 'society', 'now', '#motivation']]\n"
     ]
    }
   ],
   "source": [
    "print(tweet_token[:5])"
   ]
  },
  {
   "cell_type": "markdown",
   "id": "e6917844",
   "metadata": {},
   "source": [
    "## v. Remove stop words."
   ]
  },
  {
   "cell_type": "code",
   "execution_count": 19,
   "id": "1dfb928d",
   "metadata": {},
   "outputs": [],
   "source": [
    "stop_words = stopwords.words('english')"
   ]
  },
  {
   "cell_type": "code",
   "execution_count": 20,
   "id": "c8e7bc86",
   "metadata": {},
   "outputs": [],
   "source": [
    "def remove_stopwords(input_word):\n",
    "    remove = [term for term in input_word if term not in stop_words]\n",
    "    return remove\n",
    "    \n",
    "tweet_nonstopword = [remove_stopwords(sent) for sent in tweet_token]"
   ]
  },
  {
   "cell_type": "code",
   "execution_count": 21,
   "id": "e93aa9a7",
   "metadata": {},
   "outputs": [
    {
     "name": "stdout",
     "output_type": "stream",
     "text": [
      "[['father', 'dysfunctional', 'selfish', 'drags', 'kids', 'dysfunction', '.', '#run'], ['thanks', '#lyft', 'credit', \"can't\", 'use', 'cause', 'offer', 'wheelchair', 'vans', 'pdx', '.', '#disapointed', '#getthanked'], ['bihday', 'majesty'], ['#model', 'love', 'u', 'take', 'u', 'time', 'urð', '\\x9f', '\\x93', '±', '!', '!', '!', 'ð', '\\x9f', '\\x98', '\\x99', 'ð', '\\x9f', '\\x98', '\\x8e', 'ð', '\\x9f', '\\x91', '\\x84', 'ð', '\\x9f', '\\x91', 'ð', '\\x9f', '\\x92', '¦', 'ð', '\\x9f', '\\x92', '¦', 'ð', '\\x9f', '\\x92', '¦'], ['factsguide', ':', 'society', '#motivation']]\n"
     ]
    }
   ],
   "source": [
    "print(tweet_nonstopword[:5])"
   ]
  },
  {
   "cell_type": "code",
   "execution_count": 22,
   "id": "ef5a620b",
   "metadata": {},
   "outputs": [],
   "source": [
    "punct = list(punctuation)\n",
    "punct.extend(['...','``',\"''\",\"..\"])"
   ]
  },
  {
   "cell_type": "code",
   "execution_count": 23,
   "id": "43678c4d",
   "metadata": {},
   "outputs": [],
   "source": [
    "def remove_punctuation(input_word):\n",
    "    remove = [term for term in input_word if term not in punct]\n",
    "    return remove\n",
    "    \n",
    "tweet_nonpunctuation = [remove_punctuation(sent) for sent in tweet_nonstopword]"
   ]
  },
  {
   "cell_type": "code",
   "execution_count": 24,
   "id": "ace88c89",
   "metadata": {},
   "outputs": [
    {
     "name": "stdout",
     "output_type": "stream",
     "text": [
      "[['father', 'dysfunctional', 'selfish', 'drags', 'kids', 'dysfunction', '#run'], ['thanks', '#lyft', 'credit', \"can't\", 'use', 'cause', 'offer', 'wheelchair', 'vans', 'pdx', '#disapointed', '#getthanked'], ['bihday', 'majesty'], ['#model', 'love', 'u', 'take', 'u', 'time', 'urð', '\\x9f', '\\x93', '±', 'ð', '\\x9f', '\\x98', '\\x99', 'ð', '\\x9f', '\\x98', '\\x8e', 'ð', '\\x9f', '\\x91', '\\x84', 'ð', '\\x9f', '\\x91', 'ð', '\\x9f', '\\x92', '¦', 'ð', '\\x9f', '\\x92', '¦', 'ð', '\\x9f', '\\x92', '¦'], ['factsguide', 'society', '#motivation']]\n"
     ]
    }
   ],
   "source": [
    "print(tweet_nonpunctuation[:5])"
   ]
  },
  {
   "cell_type": "markdown",
   "id": "1207b8f6",
   "metadata": {},
   "source": [
    "## vi. Remove redundant terms like ‘amp’, ‘rt’, etc."
   ]
  },
  {
   "cell_type": "code",
   "execution_count": 25,
   "id": "27c7ff5e",
   "metadata": {},
   "outputs": [],
   "source": [
    "context = ['amp','rt']"
   ]
  },
  {
   "cell_type": "code",
   "execution_count": 26,
   "id": "9fdac534",
   "metadata": {},
   "outputs": [],
   "source": [
    "def stop_context(sent):\n",
    "    return [term for term in sent if term not in context]\n",
    "\n",
    "tweet_noncontext = [stop_context(tweet) for tweet in tweet_nonpunctuation]"
   ]
  },
  {
   "cell_type": "code",
   "execution_count": 27,
   "id": "66983b4b",
   "metadata": {},
   "outputs": [
    {
     "name": "stdout",
     "output_type": "stream",
     "text": [
      "[['father', 'dysfunctional', 'selfish', 'drags', 'kids', 'dysfunction', '#run'], ['thanks', '#lyft', 'credit', \"can't\", 'use', 'cause', 'offer', 'wheelchair', 'vans', 'pdx', '#disapointed', '#getthanked'], ['bihday', 'majesty'], ['#model', 'love', 'u', 'take', 'u', 'time', 'urð', '\\x9f', '\\x93', '±', 'ð', '\\x9f', '\\x98', '\\x99', 'ð', '\\x9f', '\\x98', '\\x8e', 'ð', '\\x9f', '\\x91', '\\x84', 'ð', '\\x9f', '\\x91', 'ð', '\\x9f', '\\x92', '¦', 'ð', '\\x9f', '\\x92', '¦', 'ð', '\\x9f', '\\x92', '¦'], ['factsguide', 'society', '#motivation']]\n"
     ]
    }
   ],
   "source": [
    "print(tweet_noncontext[:5])"
   ]
  },
  {
   "cell_type": "markdown",
   "id": "f81b5419",
   "metadata": {},
   "source": [
    "## vii. Remove ‘#’ symbols from the tweet while retaining the term."
   ]
  },
  {
   "cell_type": "code",
   "execution_count": 28,
   "id": "0b34cde4",
   "metadata": {},
   "outputs": [],
   "source": [
    "def remove_symbol(sent):\n",
    "    return [re.sub('#','',term) for term in sent]"
   ]
  },
  {
   "cell_type": "code",
   "execution_count": 29,
   "id": "2d20acf7",
   "metadata": {},
   "outputs": [],
   "source": [
    "tweet_nonsymbol = [remove_symbol(tweet) for tweet in tweet_noncontext]"
   ]
  },
  {
   "cell_type": "code",
   "execution_count": 30,
   "id": "eee1c44e",
   "metadata": {},
   "outputs": [
    {
     "name": "stdout",
     "output_type": "stream",
     "text": [
      "[['father', 'dysfunctional', 'selfish', 'drags', 'kids', 'dysfunction', 'run'], ['thanks', 'lyft', 'credit', \"can't\", 'use', 'cause', 'offer', 'wheelchair', 'vans', 'pdx', 'disapointed', 'getthanked'], ['bihday', 'majesty'], ['model', 'love', 'u', 'take', 'u', 'time', 'urð', '\\x9f', '\\x93', '±', 'ð', '\\x9f', '\\x98', '\\x99', 'ð', '\\x9f', '\\x98', '\\x8e', 'ð', '\\x9f', '\\x91', '\\x84', 'ð', '\\x9f', '\\x91', 'ð', '\\x9f', '\\x92', '¦', 'ð', '\\x9f', '\\x92', '¦', 'ð', '\\x9f', '\\x92', '¦'], ['factsguide', 'society', 'motivation']]\n"
     ]
    }
   ],
   "source": [
    "print(tweet_nonsymbol[:5])"
   ]
  },
  {
   "cell_type": "markdown",
   "id": "30d82003",
   "metadata": {},
   "source": [
    "# 4. Extra cleanup by removing terms with a length of 1."
   ]
  },
  {
   "cell_type": "code",
   "execution_count": 31,
   "id": "8e352123",
   "metadata": {},
   "outputs": [],
   "source": [
    "def clean_tweet(sent):\n",
    "    return [term for term in sent if len(term)>1]"
   ]
  },
  {
   "cell_type": "code",
   "execution_count": 32,
   "id": "6757f4d6",
   "metadata": {},
   "outputs": [],
   "source": [
    "tweet_clean = [clean_tweet(sent) for sent in tweet_nonsymbol]"
   ]
  },
  {
   "cell_type": "code",
   "execution_count": 33,
   "id": "55acae33",
   "metadata": {},
   "outputs": [
    {
     "name": "stdout",
     "output_type": "stream",
     "text": [
      "[['father', 'dysfunctional', 'selfish', 'drags', 'kids', 'dysfunction', 'run'], ['thanks', 'lyft', 'credit', \"can't\", 'use', 'cause', 'offer', 'wheelchair', 'vans', 'pdx', 'disapointed', 'getthanked'], ['bihday', 'majesty'], ['model', 'love', 'take', 'time', 'urð'], ['factsguide', 'society', 'motivation']]\n"
     ]
    }
   ],
   "source": [
    "print(tweet_clean[:5])"
   ]
  },
  {
   "cell_type": "markdown",
   "id": "ebf06fb9",
   "metadata": {},
   "source": [
    "# 5. Check out the top terms in the tweets:"
   ]
  },
  {
   "cell_type": "markdown",
   "id": "e105721c",
   "metadata": {},
   "source": [
    "## i. First, get all the tokenized terms into one large list."
   ]
  },
  {
   "cell_type": "code",
   "execution_count": 34,
   "id": "73ab9619",
   "metadata": {},
   "outputs": [],
   "source": [
    "tweet_list = []\n",
    "for token in tweet_clean:\n",
    "    tweet_list.extend(token)"
   ]
  },
  {
   "cell_type": "markdown",
   "id": "eafbaa64",
   "metadata": {},
   "source": [
    "## ii. Use the counter and find the 10 most common terms."
   ]
  },
  {
   "cell_type": "code",
   "execution_count": 35,
   "id": "6e2a6324",
   "metadata": {},
   "outputs": [
    {
     "data": {
      "text/plain": [
       "[('love', 2748),\n",
       " ('day', 2276),\n",
       " ('happy', 1684),\n",
       " ('time', 1131),\n",
       " ('life', 1118),\n",
       " ('like', 1047),\n",
       " (\"i'm\", 1018),\n",
       " ('today', 1013),\n",
       " ('new', 994),\n",
       " ('thankful', 946)]"
      ]
     },
     "execution_count": 35,
     "metadata": {},
     "output_type": "execute_result"
    }
   ],
   "source": [
    "most_common_10 = Counter(tweet_list)\n",
    "most_common_10.most_common(10)"
   ]
  },
  {
   "cell_type": "markdown",
   "id": "8b7250de",
   "metadata": {},
   "source": [
    "# 6. Data formatting for predictive modeling:"
   ]
  },
  {
   "cell_type": "markdown",
   "id": "bbc804ab",
   "metadata": {},
   "source": [
    "## i. Join the tokens back to form strings. This will be required for the vectorizers."
   ]
  },
  {
   "cell_type": "code",
   "execution_count": 36,
   "id": "c6f33b1c",
   "metadata": {},
   "outputs": [],
   "source": [
    "tweet_clean = [' '.join(term) for term in tweet_clean]"
   ]
  },
  {
   "cell_type": "code",
   "execution_count": 37,
   "id": "147cbd81",
   "metadata": {},
   "outputs": [
    {
     "data": {
      "text/plain": [
       "['father dysfunctional selfish drags kids dysfunction run',\n",
       " \"thanks lyft credit can't use cause offer wheelchair vans pdx disapointed getthanked\",\n",
       " 'bihday majesty',\n",
       " 'model love take time urð',\n",
       " 'factsguide society motivation']"
      ]
     },
     "execution_count": 37,
     "metadata": {},
     "output_type": "execute_result"
    }
   ],
   "source": [
    "tweet_clean[:5]"
   ]
  },
  {
   "cell_type": "markdown",
   "id": "984051de",
   "metadata": {},
   "source": [
    "## ii. Assign x and y."
   ]
  },
  {
   "cell_type": "code",
   "execution_count": 38,
   "id": "2623a33c",
   "metadata": {},
   "outputs": [
    {
     "data": {
      "text/plain": [
       "31962"
      ]
     },
     "execution_count": 38,
     "metadata": {},
     "output_type": "execute_result"
    }
   ],
   "source": [
    "len(tweet_clean)"
   ]
  },
  {
   "cell_type": "code",
   "execution_count": 39,
   "id": "d54e6ff7",
   "metadata": {},
   "outputs": [
    {
     "data": {
      "text/plain": [
       "31962"
      ]
     },
     "execution_count": 39,
     "metadata": {},
     "output_type": "execute_result"
    }
   ],
   "source": [
    "len(data['label'])"
   ]
  },
  {
   "cell_type": "code",
   "execution_count": 40,
   "id": "fdd3c24b",
   "metadata": {},
   "outputs": [],
   "source": [
    "x = tweet_clean\n",
    "y = data['label']"
   ]
  },
  {
   "cell_type": "markdown",
   "id": "66035b7e",
   "metadata": {},
   "source": [
    "## iii. Perform train_test_split using sklearn."
   ]
  },
  {
   "cell_type": "code",
   "execution_count": 41,
   "id": "9a3a1b09",
   "metadata": {},
   "outputs": [],
   "source": [
    "xtrain,xtest,ytrain,ytest = train_test_split(x,y,test_size=0.2,random_state=42)"
   ]
  },
  {
   "cell_type": "markdown",
   "id": "1b61b442",
   "metadata": {},
   "source": [
    "# 7. We’ll use TF-IDF values for the terms as a feature to get into a vector space model."
   ]
  },
  {
   "cell_type": "markdown",
   "id": "12f6df19",
   "metadata": {},
   "source": [
    "## i. Import TF-IDF  vectorizer from sklearn."
   ]
  },
  {
   "cell_type": "code",
   "execution_count": 42,
   "id": "c8786570",
   "metadata": {},
   "outputs": [],
   "source": [
    "from sklearn.feature_extraction.text import TfidfVectorizer"
   ]
  },
  {
   "cell_type": "markdown",
   "id": "e272585a",
   "metadata": {},
   "source": [
    "## ii. Instantiate with a maximum of 5000 terms in your vocabulary."
   ]
  },
  {
   "cell_type": "code",
   "execution_count": 43,
   "id": "c1545265",
   "metadata": {},
   "outputs": [],
   "source": [
    "vector = TfidfVectorizer(max_features=5000)"
   ]
  },
  {
   "cell_type": "markdown",
   "id": "c8235e05",
   "metadata": {},
   "source": [
    "## iii. Fit and apply on the train set."
   ]
  },
  {
   "cell_type": "code",
   "execution_count": 44,
   "id": "96ad32b7",
   "metadata": {},
   "outputs": [],
   "source": [
    "xtrain_tfidf = vector.fit_transform(xtrain)"
   ]
  },
  {
   "cell_type": "markdown",
   "id": "2682e220",
   "metadata": {},
   "source": [
    "## iv. Apply on the test set."
   ]
  },
  {
   "cell_type": "code",
   "execution_count": 45,
   "id": "f5ecb786",
   "metadata": {},
   "outputs": [],
   "source": [
    "xtest_tfidf = vector.transform(xtest)"
   ]
  },
  {
   "cell_type": "code",
   "execution_count": 46,
   "id": "8c12534e",
   "metadata": {},
   "outputs": [
    {
     "data": {
      "text/plain": [
       "((25569, 5000), (6393, 5000))"
      ]
     },
     "execution_count": 46,
     "metadata": {},
     "output_type": "execute_result"
    }
   ],
   "source": [
    "xtrain_tfidf.shape,xtest_tfidf.shape"
   ]
  },
  {
   "cell_type": "markdown",
   "id": "dd160ae2",
   "metadata": {},
   "source": [
    "# 8. Model building: Ordinary Logistic Regression"
   ]
  },
  {
   "cell_type": "markdown",
   "id": "6685e763",
   "metadata": {},
   "source": [
    "## i. Instantiate Logistic Regression from sklearn with default parameters."
   ]
  },
  {
   "cell_type": "code",
   "execution_count": 47,
   "id": "e1604000",
   "metadata": {},
   "outputs": [],
   "source": [
    "model = LogisticRegression()"
   ]
  },
  {
   "cell_type": "markdown",
   "id": "40122c9c",
   "metadata": {},
   "source": [
    "## ii. Fit into  the train data."
   ]
  },
  {
   "cell_type": "code",
   "execution_count": 48,
   "id": "5a839b4f",
   "metadata": {},
   "outputs": [
    {
     "data": {
      "text/html": [
       "<style>#sk-container-id-1 {color: black;background-color: white;}#sk-container-id-1 pre{padding: 0;}#sk-container-id-1 div.sk-toggleable {background-color: white;}#sk-container-id-1 label.sk-toggleable__label {cursor: pointer;display: block;width: 100%;margin-bottom: 0;padding: 0.3em;box-sizing: border-box;text-align: center;}#sk-container-id-1 label.sk-toggleable__label-arrow:before {content: \"▸\";float: left;margin-right: 0.25em;color: #696969;}#sk-container-id-1 label.sk-toggleable__label-arrow:hover:before {color: black;}#sk-container-id-1 div.sk-estimator:hover label.sk-toggleable__label-arrow:before {color: black;}#sk-container-id-1 div.sk-toggleable__content {max-height: 0;max-width: 0;overflow: hidden;text-align: left;background-color: #f0f8ff;}#sk-container-id-1 div.sk-toggleable__content pre {margin: 0.2em;color: black;border-radius: 0.25em;background-color: #f0f8ff;}#sk-container-id-1 input.sk-toggleable__control:checked~div.sk-toggleable__content {max-height: 200px;max-width: 100%;overflow: auto;}#sk-container-id-1 input.sk-toggleable__control:checked~label.sk-toggleable__label-arrow:before {content: \"▾\";}#sk-container-id-1 div.sk-estimator input.sk-toggleable__control:checked~label.sk-toggleable__label {background-color: #d4ebff;}#sk-container-id-1 div.sk-label input.sk-toggleable__control:checked~label.sk-toggleable__label {background-color: #d4ebff;}#sk-container-id-1 input.sk-hidden--visually {border: 0;clip: rect(1px 1px 1px 1px);clip: rect(1px, 1px, 1px, 1px);height: 1px;margin: -1px;overflow: hidden;padding: 0;position: absolute;width: 1px;}#sk-container-id-1 div.sk-estimator {font-family: monospace;background-color: #f0f8ff;border: 1px dotted black;border-radius: 0.25em;box-sizing: border-box;margin-bottom: 0.5em;}#sk-container-id-1 div.sk-estimator:hover {background-color: #d4ebff;}#sk-container-id-1 div.sk-parallel-item::after {content: \"\";width: 100%;border-bottom: 1px solid gray;flex-grow: 1;}#sk-container-id-1 div.sk-label:hover label.sk-toggleable__label {background-color: #d4ebff;}#sk-container-id-1 div.sk-serial::before {content: \"\";position: absolute;border-left: 1px solid gray;box-sizing: border-box;top: 0;bottom: 0;left: 50%;z-index: 0;}#sk-container-id-1 div.sk-serial {display: flex;flex-direction: column;align-items: center;background-color: white;padding-right: 0.2em;padding-left: 0.2em;position: relative;}#sk-container-id-1 div.sk-item {position: relative;z-index: 1;}#sk-container-id-1 div.sk-parallel {display: flex;align-items: stretch;justify-content: center;background-color: white;position: relative;}#sk-container-id-1 div.sk-item::before, #sk-container-id-1 div.sk-parallel-item::before {content: \"\";position: absolute;border-left: 1px solid gray;box-sizing: border-box;top: 0;bottom: 0;left: 50%;z-index: -1;}#sk-container-id-1 div.sk-parallel-item {display: flex;flex-direction: column;z-index: 1;position: relative;background-color: white;}#sk-container-id-1 div.sk-parallel-item:first-child::after {align-self: flex-end;width: 50%;}#sk-container-id-1 div.sk-parallel-item:last-child::after {align-self: flex-start;width: 50%;}#sk-container-id-1 div.sk-parallel-item:only-child::after {width: 0;}#sk-container-id-1 div.sk-dashed-wrapped {border: 1px dashed gray;margin: 0 0.4em 0.5em 0.4em;box-sizing: border-box;padding-bottom: 0.4em;background-color: white;}#sk-container-id-1 div.sk-label label {font-family: monospace;font-weight: bold;display: inline-block;line-height: 1.2em;}#sk-container-id-1 div.sk-label-container {text-align: center;}#sk-container-id-1 div.sk-container {/* jupyter's `normalize.less` sets `[hidden] { display: none; }` but bootstrap.min.css set `[hidden] { display: none !important; }` so we also need the `!important` here to be able to override the default hidden behavior on the sphinx rendered scikit-learn.org. See: https://github.com/scikit-learn/scikit-learn/issues/21755 */display: inline-block !important;position: relative;}#sk-container-id-1 div.sk-text-repr-fallback {display: none;}</style><div id=\"sk-container-id-1\" class=\"sk-top-container\"><div class=\"sk-text-repr-fallback\"><pre>LogisticRegression()</pre><b>In a Jupyter environment, please rerun this cell to show the HTML representation or trust the notebook. <br />On GitHub, the HTML representation is unable to render, please try loading this page with nbviewer.org.</b></div><div class=\"sk-container\" hidden><div class=\"sk-item\"><div class=\"sk-estimator sk-toggleable\"><input class=\"sk-toggleable__control sk-hidden--visually\" id=\"sk-estimator-id-1\" type=\"checkbox\" checked><label for=\"sk-estimator-id-1\" class=\"sk-toggleable__label sk-toggleable__label-arrow\">LogisticRegression</label><div class=\"sk-toggleable__content\"><pre>LogisticRegression()</pre></div></div></div></div></div>"
      ],
      "text/plain": [
       "LogisticRegression()"
      ]
     },
     "execution_count": 48,
     "metadata": {},
     "output_type": "execute_result"
    }
   ],
   "source": [
    "model.fit(xtrain_tfidf,ytrain)"
   ]
  },
  {
   "cell_type": "markdown",
   "id": "c6458faf",
   "metadata": {},
   "source": [
    "## iii. Make predictions for the train and the test set."
   ]
  },
  {
   "cell_type": "code",
   "execution_count": 49,
   "id": "ae912443",
   "metadata": {},
   "outputs": [],
   "source": [
    "y_train_pred = model.predict(xtrain_tfidf)\n",
    "y_test_pred = model.predict(xtest_tfidf)"
   ]
  },
  {
   "cell_type": "markdown",
   "id": "f0908576",
   "metadata": {},
   "source": [
    "# 9. Model evaluation: Accuracy, recall, and f_1 score."
   ]
  },
  {
   "cell_type": "markdown",
   "id": "6e3ae712",
   "metadata": {},
   "source": [
    "## i. Report the accuracy on the train set."
   ]
  },
  {
   "cell_type": "code",
   "execution_count": 50,
   "id": "42b6dd06",
   "metadata": {},
   "outputs": [
    {
     "name": "stdout",
     "output_type": "stream",
     "text": [
      "Accuracy Score on Train Dataset: 0.9563142868317103\n"
     ]
    }
   ],
   "source": [
    "print('Accuracy Score on Train Dataset:',accuracy_score(ytrain,y_train_pred))"
   ]
  },
  {
   "cell_type": "markdown",
   "id": "1488ae22",
   "metadata": {},
   "source": [
    "## ii. Report the recall on the train set: decent, high, or low."
   ]
  },
  {
   "cell_type": "code",
   "execution_count": 51,
   "id": "5194ac2d",
   "metadata": {},
   "outputs": [
    {
     "name": "stdout",
     "output_type": "stream",
     "text": [
      "Recall Score on Train dataset: 0.9563142868317103\n"
     ]
    }
   ],
   "source": [
    "print('Recall Score on Train dataset:', recall_score(ytrain,y_train_pred,average='weighted'))"
   ]
  },
  {
   "cell_type": "markdown",
   "id": "dcb32f86",
   "metadata": {},
   "source": [
    "## iii. Get the f1 score on the train set."
   ]
  },
  {
   "cell_type": "code",
   "execution_count": 52,
   "id": "cb2e8426",
   "metadata": {},
   "outputs": [
    {
     "name": "stdout",
     "output_type": "stream",
     "text": [
      "F1 score on Train dataset: 0.9477746245284707\n"
     ]
    }
   ],
   "source": [
    "print('F1 score on Train dataset:', f1_score(ytrain,y_train_pred,average='weighted'))"
   ]
  },
  {
   "cell_type": "code",
   "execution_count": 53,
   "id": "ee8049a8",
   "metadata": {},
   "outputs": [
    {
     "name": "stdout",
     "output_type": "stream",
     "text": [
      "Classification Report on Train Dataset:\n",
      "              precision    recall  f1-score   support\n",
      "\n",
      "           0       0.95      1.00      0.97      5937\n",
      "           1       0.91      0.34      0.50       456\n",
      "\n",
      "    accuracy                           0.95      6393\n",
      "   macro avg       0.93      0.67      0.73      6393\n",
      "weighted avg       0.95      0.95      0.94      6393\n",
      "\n"
     ]
    }
   ],
   "source": [
    "print('Classification Report on Train Dataset:')\n",
    "print(classification_report(ytest,y_test_pred))"
   ]
  },
  {
   "cell_type": "markdown",
   "id": "a7496e10",
   "metadata": {},
   "source": [
    "# 10. Looks like you need to adjust the class imbalance, as the model seems to focus on the 0s."
   ]
  },
  {
   "cell_type": "markdown",
   "id": "7bb373e5",
   "metadata": {},
   "source": [
    "## i. Looks like you need to adjust the class imbalance, as the model seems to focus on the 0s."
   ]
  },
  {
   "cell_type": "code",
   "execution_count": 54,
   "id": "7f84eef0",
   "metadata": {},
   "outputs": [],
   "source": [
    "model_imbalance = LogisticRegression(class_weight='balanced')"
   ]
  },
  {
   "cell_type": "markdown",
   "id": "aff08d0b",
   "metadata": {},
   "source": [
    "# 11. Train again with the adjustment and evaluate."
   ]
  },
  {
   "cell_type": "markdown",
   "id": "ce531413",
   "metadata": {},
   "source": [
    "## i. Train the model on the train set."
   ]
  },
  {
   "cell_type": "code",
   "execution_count": 55,
   "id": "de15e405",
   "metadata": {},
   "outputs": [
    {
     "data": {
      "text/html": [
       "<style>#sk-container-id-2 {color: black;background-color: white;}#sk-container-id-2 pre{padding: 0;}#sk-container-id-2 div.sk-toggleable {background-color: white;}#sk-container-id-2 label.sk-toggleable__label {cursor: pointer;display: block;width: 100%;margin-bottom: 0;padding: 0.3em;box-sizing: border-box;text-align: center;}#sk-container-id-2 label.sk-toggleable__label-arrow:before {content: \"▸\";float: left;margin-right: 0.25em;color: #696969;}#sk-container-id-2 label.sk-toggleable__label-arrow:hover:before {color: black;}#sk-container-id-2 div.sk-estimator:hover label.sk-toggleable__label-arrow:before {color: black;}#sk-container-id-2 div.sk-toggleable__content {max-height: 0;max-width: 0;overflow: hidden;text-align: left;background-color: #f0f8ff;}#sk-container-id-2 div.sk-toggleable__content pre {margin: 0.2em;color: black;border-radius: 0.25em;background-color: #f0f8ff;}#sk-container-id-2 input.sk-toggleable__control:checked~div.sk-toggleable__content {max-height: 200px;max-width: 100%;overflow: auto;}#sk-container-id-2 input.sk-toggleable__control:checked~label.sk-toggleable__label-arrow:before {content: \"▾\";}#sk-container-id-2 div.sk-estimator input.sk-toggleable__control:checked~label.sk-toggleable__label {background-color: #d4ebff;}#sk-container-id-2 div.sk-label input.sk-toggleable__control:checked~label.sk-toggleable__label {background-color: #d4ebff;}#sk-container-id-2 input.sk-hidden--visually {border: 0;clip: rect(1px 1px 1px 1px);clip: rect(1px, 1px, 1px, 1px);height: 1px;margin: -1px;overflow: hidden;padding: 0;position: absolute;width: 1px;}#sk-container-id-2 div.sk-estimator {font-family: monospace;background-color: #f0f8ff;border: 1px dotted black;border-radius: 0.25em;box-sizing: border-box;margin-bottom: 0.5em;}#sk-container-id-2 div.sk-estimator:hover {background-color: #d4ebff;}#sk-container-id-2 div.sk-parallel-item::after {content: \"\";width: 100%;border-bottom: 1px solid gray;flex-grow: 1;}#sk-container-id-2 div.sk-label:hover label.sk-toggleable__label {background-color: #d4ebff;}#sk-container-id-2 div.sk-serial::before {content: \"\";position: absolute;border-left: 1px solid gray;box-sizing: border-box;top: 0;bottom: 0;left: 50%;z-index: 0;}#sk-container-id-2 div.sk-serial {display: flex;flex-direction: column;align-items: center;background-color: white;padding-right: 0.2em;padding-left: 0.2em;position: relative;}#sk-container-id-2 div.sk-item {position: relative;z-index: 1;}#sk-container-id-2 div.sk-parallel {display: flex;align-items: stretch;justify-content: center;background-color: white;position: relative;}#sk-container-id-2 div.sk-item::before, #sk-container-id-2 div.sk-parallel-item::before {content: \"\";position: absolute;border-left: 1px solid gray;box-sizing: border-box;top: 0;bottom: 0;left: 50%;z-index: -1;}#sk-container-id-2 div.sk-parallel-item {display: flex;flex-direction: column;z-index: 1;position: relative;background-color: white;}#sk-container-id-2 div.sk-parallel-item:first-child::after {align-self: flex-end;width: 50%;}#sk-container-id-2 div.sk-parallel-item:last-child::after {align-self: flex-start;width: 50%;}#sk-container-id-2 div.sk-parallel-item:only-child::after {width: 0;}#sk-container-id-2 div.sk-dashed-wrapped {border: 1px dashed gray;margin: 0 0.4em 0.5em 0.4em;box-sizing: border-box;padding-bottom: 0.4em;background-color: white;}#sk-container-id-2 div.sk-label label {font-family: monospace;font-weight: bold;display: inline-block;line-height: 1.2em;}#sk-container-id-2 div.sk-label-container {text-align: center;}#sk-container-id-2 div.sk-container {/* jupyter's `normalize.less` sets `[hidden] { display: none; }` but bootstrap.min.css set `[hidden] { display: none !important; }` so we also need the `!important` here to be able to override the default hidden behavior on the sphinx rendered scikit-learn.org. See: https://github.com/scikit-learn/scikit-learn/issues/21755 */display: inline-block !important;position: relative;}#sk-container-id-2 div.sk-text-repr-fallback {display: none;}</style><div id=\"sk-container-id-2\" class=\"sk-top-container\"><div class=\"sk-text-repr-fallback\"><pre>LogisticRegression(class_weight=&#x27;balanced&#x27;)</pre><b>In a Jupyter environment, please rerun this cell to show the HTML representation or trust the notebook. <br />On GitHub, the HTML representation is unable to render, please try loading this page with nbviewer.org.</b></div><div class=\"sk-container\" hidden><div class=\"sk-item\"><div class=\"sk-estimator sk-toggleable\"><input class=\"sk-toggleable__control sk-hidden--visually\" id=\"sk-estimator-id-2\" type=\"checkbox\" checked><label for=\"sk-estimator-id-2\" class=\"sk-toggleable__label sk-toggleable__label-arrow\">LogisticRegression</label><div class=\"sk-toggleable__content\"><pre>LogisticRegression(class_weight=&#x27;balanced&#x27;)</pre></div></div></div></div></div>"
      ],
      "text/plain": [
       "LogisticRegression(class_weight='balanced')"
      ]
     },
     "execution_count": 55,
     "metadata": {},
     "output_type": "execute_result"
    }
   ],
   "source": [
    "model_imbalance.fit(xtrain_tfidf,ytrain)"
   ]
  },
  {
   "cell_type": "code",
   "execution_count": 56,
   "id": "66d4926b",
   "metadata": {},
   "outputs": [],
   "source": [
    "y_train_pred = model_imbalance.predict(xtrain_tfidf)\n",
    "y_test_pred = model_imbalance.predict(xtest_tfidf)"
   ]
  },
  {
   "cell_type": "markdown",
   "id": "38ce1405",
   "metadata": {},
   "source": [
    "## ii. Evaluate the predictions on the train set: accuracy, recall, and f_1 score."
   ]
  },
  {
   "cell_type": "code",
   "execution_count": 57,
   "id": "d1143c69",
   "metadata": {},
   "outputs": [
    {
     "name": "stdout",
     "output_type": "stream",
     "text": [
      "Accuracy on Class Imbalance Train Dataset: 0.923197246988894\n"
     ]
    }
   ],
   "source": [
    "print('Accuracy on Class Imbalance Train Dataset:',accuracy_score(ytest,y_test_pred))"
   ]
  },
  {
   "cell_type": "code",
   "execution_count": 58,
   "id": "82a3f6e4",
   "metadata": {},
   "outputs": [
    {
     "name": "stdout",
     "output_type": "stream",
     "text": [
      "Recall and F1 Score on Class Imbalace Train Dataset:\n",
      "              precision    recall  f1-score   support\n",
      "\n",
      "           0       0.98      0.93      0.96      5937\n",
      "           1       0.48      0.80      0.60       456\n",
      "\n",
      "    accuracy                           0.92      6393\n",
      "   macro avg       0.73      0.87      0.78      6393\n",
      "weighted avg       0.95      0.92      0.93      6393\n",
      "\n"
     ]
    }
   ],
   "source": [
    "print('Recall and F1 Score on Class Imbalace Train Dataset:')\n",
    "print(classification_report(ytest,y_test_pred))"
   ]
  },
  {
   "cell_type": "markdown",
   "id": "43fcd4b3",
   "metadata": {},
   "source": [
    "# 12. Regularization and Hyperparameter tuning:"
   ]
  },
  {
   "cell_type": "markdown",
   "id": "b648368b",
   "metadata": {},
   "source": [
    "## i. Import GridSearch and StratifiedKFold because of class imbalance"
   ]
  },
  {
   "cell_type": "code",
   "execution_count": 59,
   "id": "e6da07f2",
   "metadata": {},
   "outputs": [],
   "source": [
    "from sklearn.model_selection import GridSearchCV,StratifiedKFold"
   ]
  },
  {
   "cell_type": "markdown",
   "id": "448835d3",
   "metadata": {},
   "source": [
    "## ii. Provide the parameter grid to choose for ‘C’ and ‘penalty’ parameters."
   ]
  },
  {
   "cell_type": "code",
   "execution_count": 60,
   "id": "4640c67a",
   "metadata": {},
   "outputs": [],
   "source": [
    "params = {'C': [0.01,0.1,1,10,100],\n",
    "              'penalty': [\"l1\",\"l2\"]}"
   ]
  },
  {
   "cell_type": "markdown",
   "id": "58b54af2",
   "metadata": {},
   "source": [
    "## iii. Use a balanced class weight while instantiating the logistic regression."
   ]
  },
  {
   "cell_type": "code",
   "execution_count": 61,
   "id": "2a045145",
   "metadata": {},
   "outputs": [],
   "source": [
    "model_gridsearch = LogisticRegression(class_weight='balanced')"
   ]
  },
  {
   "cell_type": "markdown",
   "id": "de6d4c79",
   "metadata": {},
   "source": [
    "# 13. Find the parameters with the best recall in cross validation."
   ]
  },
  {
   "cell_type": "markdown",
   "id": "6e1fe920",
   "metadata": {},
   "source": [
    "## i. Choose ‘recall’ as the metric for scoring.\n",
    "## ii. Choose stratified 4 fold cross validation scheme."
   ]
  },
  {
   "cell_type": "code",
   "execution_count": 62,
   "id": "152dfb43",
   "metadata": {},
   "outputs": [],
   "source": [
    "grid_search = GridSearchCV(estimator=model_gridsearch,param_grid=params,cv=StratifiedKFold(4),n_jobs=-1,verbose=1,\n",
    "                           scoring='recall')"
   ]
  },
  {
   "cell_type": "markdown",
   "id": "2a7a889a",
   "metadata": {},
   "source": [
    "## iii. Fit into  the train set."
   ]
  },
  {
   "cell_type": "code",
   "execution_count": 63,
   "id": "0161cac0",
   "metadata": {},
   "outputs": [
    {
     "name": "stdout",
     "output_type": "stream",
     "text": [
      "Fitting 4 folds for each of 10 candidates, totalling 40 fits\n",
      "Wall time: 9.53 s\n"
     ]
    },
    {
     "data": {
      "text/html": [
       "<style>#sk-container-id-3 {color: black;background-color: white;}#sk-container-id-3 pre{padding: 0;}#sk-container-id-3 div.sk-toggleable {background-color: white;}#sk-container-id-3 label.sk-toggleable__label {cursor: pointer;display: block;width: 100%;margin-bottom: 0;padding: 0.3em;box-sizing: border-box;text-align: center;}#sk-container-id-3 label.sk-toggleable__label-arrow:before {content: \"▸\";float: left;margin-right: 0.25em;color: #696969;}#sk-container-id-3 label.sk-toggleable__label-arrow:hover:before {color: black;}#sk-container-id-3 div.sk-estimator:hover label.sk-toggleable__label-arrow:before {color: black;}#sk-container-id-3 div.sk-toggleable__content {max-height: 0;max-width: 0;overflow: hidden;text-align: left;background-color: #f0f8ff;}#sk-container-id-3 div.sk-toggleable__content pre {margin: 0.2em;color: black;border-radius: 0.25em;background-color: #f0f8ff;}#sk-container-id-3 input.sk-toggleable__control:checked~div.sk-toggleable__content {max-height: 200px;max-width: 100%;overflow: auto;}#sk-container-id-3 input.sk-toggleable__control:checked~label.sk-toggleable__label-arrow:before {content: \"▾\";}#sk-container-id-3 div.sk-estimator input.sk-toggleable__control:checked~label.sk-toggleable__label {background-color: #d4ebff;}#sk-container-id-3 div.sk-label input.sk-toggleable__control:checked~label.sk-toggleable__label {background-color: #d4ebff;}#sk-container-id-3 input.sk-hidden--visually {border: 0;clip: rect(1px 1px 1px 1px);clip: rect(1px, 1px, 1px, 1px);height: 1px;margin: -1px;overflow: hidden;padding: 0;position: absolute;width: 1px;}#sk-container-id-3 div.sk-estimator {font-family: monospace;background-color: #f0f8ff;border: 1px dotted black;border-radius: 0.25em;box-sizing: border-box;margin-bottom: 0.5em;}#sk-container-id-3 div.sk-estimator:hover {background-color: #d4ebff;}#sk-container-id-3 div.sk-parallel-item::after {content: \"\";width: 100%;border-bottom: 1px solid gray;flex-grow: 1;}#sk-container-id-3 div.sk-label:hover label.sk-toggleable__label {background-color: #d4ebff;}#sk-container-id-3 div.sk-serial::before {content: \"\";position: absolute;border-left: 1px solid gray;box-sizing: border-box;top: 0;bottom: 0;left: 50%;z-index: 0;}#sk-container-id-3 div.sk-serial {display: flex;flex-direction: column;align-items: center;background-color: white;padding-right: 0.2em;padding-left: 0.2em;position: relative;}#sk-container-id-3 div.sk-item {position: relative;z-index: 1;}#sk-container-id-3 div.sk-parallel {display: flex;align-items: stretch;justify-content: center;background-color: white;position: relative;}#sk-container-id-3 div.sk-item::before, #sk-container-id-3 div.sk-parallel-item::before {content: \"\";position: absolute;border-left: 1px solid gray;box-sizing: border-box;top: 0;bottom: 0;left: 50%;z-index: -1;}#sk-container-id-3 div.sk-parallel-item {display: flex;flex-direction: column;z-index: 1;position: relative;background-color: white;}#sk-container-id-3 div.sk-parallel-item:first-child::after {align-self: flex-end;width: 50%;}#sk-container-id-3 div.sk-parallel-item:last-child::after {align-self: flex-start;width: 50%;}#sk-container-id-3 div.sk-parallel-item:only-child::after {width: 0;}#sk-container-id-3 div.sk-dashed-wrapped {border: 1px dashed gray;margin: 0 0.4em 0.5em 0.4em;box-sizing: border-box;padding-bottom: 0.4em;background-color: white;}#sk-container-id-3 div.sk-label label {font-family: monospace;font-weight: bold;display: inline-block;line-height: 1.2em;}#sk-container-id-3 div.sk-label-container {text-align: center;}#sk-container-id-3 div.sk-container {/* jupyter's `normalize.less` sets `[hidden] { display: none; }` but bootstrap.min.css set `[hidden] { display: none !important; }` so we also need the `!important` here to be able to override the default hidden behavior on the sphinx rendered scikit-learn.org. See: https://github.com/scikit-learn/scikit-learn/issues/21755 */display: inline-block !important;position: relative;}#sk-container-id-3 div.sk-text-repr-fallback {display: none;}</style><div id=\"sk-container-id-3\" class=\"sk-top-container\"><div class=\"sk-text-repr-fallback\"><pre>GridSearchCV(cv=StratifiedKFold(n_splits=4, random_state=None, shuffle=False),\n",
       "             estimator=LogisticRegression(class_weight=&#x27;balanced&#x27;), n_jobs=-1,\n",
       "             param_grid={&#x27;C&#x27;: [0.01, 0.1, 1, 10, 100], &#x27;penalty&#x27;: [&#x27;l1&#x27;, &#x27;l2&#x27;]},\n",
       "             scoring=&#x27;recall&#x27;, verbose=1)</pre><b>In a Jupyter environment, please rerun this cell to show the HTML representation or trust the notebook. <br />On GitHub, the HTML representation is unable to render, please try loading this page with nbviewer.org.</b></div><div class=\"sk-container\" hidden><div class=\"sk-item sk-dashed-wrapped\"><div class=\"sk-label-container\"><div class=\"sk-label sk-toggleable\"><input class=\"sk-toggleable__control sk-hidden--visually\" id=\"sk-estimator-id-3\" type=\"checkbox\" ><label for=\"sk-estimator-id-3\" class=\"sk-toggleable__label sk-toggleable__label-arrow\">GridSearchCV</label><div class=\"sk-toggleable__content\"><pre>GridSearchCV(cv=StratifiedKFold(n_splits=4, random_state=None, shuffle=False),\n",
       "             estimator=LogisticRegression(class_weight=&#x27;balanced&#x27;), n_jobs=-1,\n",
       "             param_grid={&#x27;C&#x27;: [0.01, 0.1, 1, 10, 100], &#x27;penalty&#x27;: [&#x27;l1&#x27;, &#x27;l2&#x27;]},\n",
       "             scoring=&#x27;recall&#x27;, verbose=1)</pre></div></div></div><div class=\"sk-parallel\"><div class=\"sk-parallel-item\"><div class=\"sk-item\"><div class=\"sk-label-container\"><div class=\"sk-label sk-toggleable\"><input class=\"sk-toggleable__control sk-hidden--visually\" id=\"sk-estimator-id-4\" type=\"checkbox\" ><label for=\"sk-estimator-id-4\" class=\"sk-toggleable__label sk-toggleable__label-arrow\">estimator: LogisticRegression</label><div class=\"sk-toggleable__content\"><pre>LogisticRegression(class_weight=&#x27;balanced&#x27;)</pre></div></div></div><div class=\"sk-serial\"><div class=\"sk-item\"><div class=\"sk-estimator sk-toggleable\"><input class=\"sk-toggleable__control sk-hidden--visually\" id=\"sk-estimator-id-5\" type=\"checkbox\" ><label for=\"sk-estimator-id-5\" class=\"sk-toggleable__label sk-toggleable__label-arrow\">LogisticRegression</label><div class=\"sk-toggleable__content\"><pre>LogisticRegression(class_weight=&#x27;balanced&#x27;)</pre></div></div></div></div></div></div></div></div></div></div>"
      ],
      "text/plain": [
       "GridSearchCV(cv=StratifiedKFold(n_splits=4, random_state=None, shuffle=False),\n",
       "             estimator=LogisticRegression(class_weight='balanced'), n_jobs=-1,\n",
       "             param_grid={'C': [0.01, 0.1, 1, 10, 100], 'penalty': ['l1', 'l2']},\n",
       "             scoring='recall', verbose=1)"
      ]
     },
     "execution_count": 63,
     "metadata": {},
     "output_type": "execute_result"
    }
   ],
   "source": [
    "%%time\n",
    "grid_search.fit(xtrain_tfidf,ytrain)"
   ]
  },
  {
   "cell_type": "markdown",
   "id": "19a30ef4",
   "metadata": {},
   "source": [
    "# 14. What are the best parameters?"
   ]
  },
  {
   "cell_type": "code",
   "execution_count": 64,
   "id": "578121bf",
   "metadata": {},
   "outputs": [
    {
     "data": {
      "text/html": [
       "<style>#sk-container-id-4 {color: black;background-color: white;}#sk-container-id-4 pre{padding: 0;}#sk-container-id-4 div.sk-toggleable {background-color: white;}#sk-container-id-4 label.sk-toggleable__label {cursor: pointer;display: block;width: 100%;margin-bottom: 0;padding: 0.3em;box-sizing: border-box;text-align: center;}#sk-container-id-4 label.sk-toggleable__label-arrow:before {content: \"▸\";float: left;margin-right: 0.25em;color: #696969;}#sk-container-id-4 label.sk-toggleable__label-arrow:hover:before {color: black;}#sk-container-id-4 div.sk-estimator:hover label.sk-toggleable__label-arrow:before {color: black;}#sk-container-id-4 div.sk-toggleable__content {max-height: 0;max-width: 0;overflow: hidden;text-align: left;background-color: #f0f8ff;}#sk-container-id-4 div.sk-toggleable__content pre {margin: 0.2em;color: black;border-radius: 0.25em;background-color: #f0f8ff;}#sk-container-id-4 input.sk-toggleable__control:checked~div.sk-toggleable__content {max-height: 200px;max-width: 100%;overflow: auto;}#sk-container-id-4 input.sk-toggleable__control:checked~label.sk-toggleable__label-arrow:before {content: \"▾\";}#sk-container-id-4 div.sk-estimator input.sk-toggleable__control:checked~label.sk-toggleable__label {background-color: #d4ebff;}#sk-container-id-4 div.sk-label input.sk-toggleable__control:checked~label.sk-toggleable__label {background-color: #d4ebff;}#sk-container-id-4 input.sk-hidden--visually {border: 0;clip: rect(1px 1px 1px 1px);clip: rect(1px, 1px, 1px, 1px);height: 1px;margin: -1px;overflow: hidden;padding: 0;position: absolute;width: 1px;}#sk-container-id-4 div.sk-estimator {font-family: monospace;background-color: #f0f8ff;border: 1px dotted black;border-radius: 0.25em;box-sizing: border-box;margin-bottom: 0.5em;}#sk-container-id-4 div.sk-estimator:hover {background-color: #d4ebff;}#sk-container-id-4 div.sk-parallel-item::after {content: \"\";width: 100%;border-bottom: 1px solid gray;flex-grow: 1;}#sk-container-id-4 div.sk-label:hover label.sk-toggleable__label {background-color: #d4ebff;}#sk-container-id-4 div.sk-serial::before {content: \"\";position: absolute;border-left: 1px solid gray;box-sizing: border-box;top: 0;bottom: 0;left: 50%;z-index: 0;}#sk-container-id-4 div.sk-serial {display: flex;flex-direction: column;align-items: center;background-color: white;padding-right: 0.2em;padding-left: 0.2em;position: relative;}#sk-container-id-4 div.sk-item {position: relative;z-index: 1;}#sk-container-id-4 div.sk-parallel {display: flex;align-items: stretch;justify-content: center;background-color: white;position: relative;}#sk-container-id-4 div.sk-item::before, #sk-container-id-4 div.sk-parallel-item::before {content: \"\";position: absolute;border-left: 1px solid gray;box-sizing: border-box;top: 0;bottom: 0;left: 50%;z-index: -1;}#sk-container-id-4 div.sk-parallel-item {display: flex;flex-direction: column;z-index: 1;position: relative;background-color: white;}#sk-container-id-4 div.sk-parallel-item:first-child::after {align-self: flex-end;width: 50%;}#sk-container-id-4 div.sk-parallel-item:last-child::after {align-self: flex-start;width: 50%;}#sk-container-id-4 div.sk-parallel-item:only-child::after {width: 0;}#sk-container-id-4 div.sk-dashed-wrapped {border: 1px dashed gray;margin: 0 0.4em 0.5em 0.4em;box-sizing: border-box;padding-bottom: 0.4em;background-color: white;}#sk-container-id-4 div.sk-label label {font-family: monospace;font-weight: bold;display: inline-block;line-height: 1.2em;}#sk-container-id-4 div.sk-label-container {text-align: center;}#sk-container-id-4 div.sk-container {/* jupyter's `normalize.less` sets `[hidden] { display: none; }` but bootstrap.min.css set `[hidden] { display: none !important; }` so we also need the `!important` here to be able to override the default hidden behavior on the sphinx rendered scikit-learn.org. See: https://github.com/scikit-learn/scikit-learn/issues/21755 */display: inline-block !important;position: relative;}#sk-container-id-4 div.sk-text-repr-fallback {display: none;}</style><div id=\"sk-container-id-4\" class=\"sk-top-container\"><div class=\"sk-text-repr-fallback\"><pre>LogisticRegression(C=1, class_weight=&#x27;balanced&#x27;)</pre><b>In a Jupyter environment, please rerun this cell to show the HTML representation or trust the notebook. <br />On GitHub, the HTML representation is unable to render, please try loading this page with nbviewer.org.</b></div><div class=\"sk-container\" hidden><div class=\"sk-item\"><div class=\"sk-estimator sk-toggleable\"><input class=\"sk-toggleable__control sk-hidden--visually\" id=\"sk-estimator-id-6\" type=\"checkbox\" checked><label for=\"sk-estimator-id-6\" class=\"sk-toggleable__label sk-toggleable__label-arrow\">LogisticRegression</label><div class=\"sk-toggleable__content\"><pre>LogisticRegression(C=1, class_weight=&#x27;balanced&#x27;)</pre></div></div></div></div></div>"
      ],
      "text/plain": [
       "LogisticRegression(C=1, class_weight='balanced')"
      ]
     },
     "execution_count": 64,
     "metadata": {},
     "output_type": "execute_result"
    }
   ],
   "source": [
    "grid_search.best_estimator_"
   ]
  },
  {
   "cell_type": "code",
   "execution_count": 65,
   "id": "a802a3a0",
   "metadata": {},
   "outputs": [
    {
     "data": {
      "text/plain": [
       "{'C': 1, 'penalty': 'l2'}"
      ]
     },
     "execution_count": 65,
     "metadata": {},
     "output_type": "execute_result"
    }
   ],
   "source": [
    "grid_search.best_params_"
   ]
  },
  {
   "cell_type": "markdown",
   "id": "26ea54f9",
   "metadata": {},
   "source": [
    "# 15. Predict and evaluate using the best estimator."
   ]
  },
  {
   "cell_type": "markdown",
   "id": "7a5c6c21",
   "metadata": {},
   "source": [
    "## i. Use the best estimator from the grid search to make predictions on the test set."
   ]
  },
  {
   "cell_type": "code",
   "execution_count": 66,
   "id": "0f9b4be3",
   "metadata": {},
   "outputs": [],
   "source": [
    "y_test_grid_pred = grid_search.best_estimator_.predict(xtest_tfidf)"
   ]
  },
  {
   "cell_type": "markdown",
   "id": "7e287fde",
   "metadata": {},
   "source": [
    "## ii. What is the recall on the test set for the toxic comments?"
   ]
  },
  {
   "cell_type": "code",
   "execution_count": 67,
   "id": "3cb87c6a",
   "metadata": {},
   "outputs": [
    {
     "name": "stdout",
     "output_type": "stream",
     "text": [
      "Recall Score on Test Dataset: 0.923197246988894\n"
     ]
    }
   ],
   "source": [
    "print('Recall Score on Test Dataset:', recall_score(ytest,y_test_grid_pred,average='weighted'))"
   ]
  },
  {
   "cell_type": "markdown",
   "id": "dece56ae",
   "metadata": {},
   "source": [
    "## iii. What is the f_1 score?"
   ]
  },
  {
   "cell_type": "code",
   "execution_count": 68,
   "id": "36d313ed",
   "metadata": {},
   "outputs": [
    {
     "name": "stdout",
     "output_type": "stream",
     "text": [
      "F1 score: 0.9318895024646877\n"
     ]
    }
   ],
   "source": [
    "print('F1 score:', f1_score(ytest,y_test_grid_pred,average='weighted'))"
   ]
  },
  {
   "cell_type": "code",
   "execution_count": 69,
   "id": "7b27614b",
   "metadata": {},
   "outputs": [
    {
     "name": "stdout",
     "output_type": "stream",
     "text": [
      "Classification Report on GridSearchCV:\n",
      "              precision    recall  f1-score   support\n",
      "\n",
      "           0       0.98      0.93      0.96      5937\n",
      "           1       0.48      0.80      0.60       456\n",
      "\n",
      "    accuracy                           0.92      6393\n",
      "   macro avg       0.73      0.87      0.78      6393\n",
      "weighted avg       0.95      0.92      0.93      6393\n",
      "\n"
     ]
    }
   ],
   "source": [
    "print('Classification Report on GridSearchCV:')\n",
    "print(classification_report(ytest,y_test_grid_pred))"
   ]
  },
  {
   "cell_type": "code",
   "execution_count": null,
   "id": "aedfe6c9",
   "metadata": {},
   "outputs": [],
   "source": []
  }
 ],
 "metadata": {
  "kernelspec": {
   "display_name": "Python 3 (ipykernel)",
   "language": "python",
   "name": "python3"
  },
  "language_info": {
   "codemirror_mode": {
    "name": "ipython",
    "version": 3
   },
   "file_extension": ".py",
   "mimetype": "text/x-python",
   "name": "python",
   "nbconvert_exporter": "python",
   "pygments_lexer": "ipython3",
   "version": "3.9.7"
  }
 },
 "nbformat": 4,
 "nbformat_minor": 5
}
